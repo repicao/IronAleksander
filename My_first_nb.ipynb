{
 "cells": [
  {
   "cell_type": "markdown",
   "id": "1e210034",
   "metadata": {},
   "source": [
    "Here I create a variable that stores my name"
   ]
  },
  {
   "cell_type": "code",
   "execution_count": 7,
   "id": "04252d85",
   "metadata": {},
   "outputs": [],
   "source": [
    "my_name = \"Aleks\""
   ]
  },
  {
   "cell_type": "code",
   "execution_count": 8,
   "id": "6db89d4c",
   "metadata": {},
   "outputs": [
    {
     "name": "stdout",
     "output_type": "stream",
     "text": [
      "Aleks\n"
     ]
    }
   ],
   "source": [
    "print(my_name)"
   ]
  },
  {
   "cell_type": "code",
   "execution_count": null,
   "id": "5cc41ee9",
   "metadata": {},
   "outputs": [],
   "source": []
  }
 ],
 "metadata": {
  "kernelspec": {
   "display_name": "Python 3 (ipykernel)",
   "language": "python",
   "name": "python3"
  },
  "language_info": {
   "codemirror_mode": {
    "name": "ipython",
    "version": 3
   },
   "file_extension": ".py",
   "mimetype": "text/x-python",
   "name": "python",
   "nbconvert_exporter": "python",
   "pygments_lexer": "ipython3",
   "version": "3.9.17"
  }
 },
 "nbformat": 4,
 "nbformat_minor": 5
}
